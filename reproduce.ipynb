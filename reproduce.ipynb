{
 "cells": [
  {
   "cell_type": "code",
   "execution_count": 1,
   "metadata": {},
   "outputs": [],
   "source": [
    "import tensorflow as tf\n",
    "import matplotlib.pyplot as plt\n",
    "% matplotlib inline"
   ]
  },
  {
   "cell_type": "code",
   "execution_count": 2,
   "metadata": {},
   "outputs": [],
   "source": [
    "from Artistic_Style import ArtisticStyle\n",
    "art = ArtisticStyle()"
   ]
  },
  {
   "cell_type": "code",
   "execution_count": 3,
   "metadata": {},
   "outputs": [
    {
     "name": "stdout",
     "output_type": "stream",
     "text": [
      "INFO:tensorflow:Optimization terminated with:\n",
      "  Message: b'STOP: TOTAL NO. of ITERATIONS REACHED LIMIT'\n",
      "  Objective function value: 955350.250000\n",
      "  Number of iterations: 500\n",
      "  Number of functions evaluations: 524\n",
      "\n",
      "\n",
      "Training ends. Output image istanbul_Nympheas.jpg and Model my_artist_1545006762 have already been saved.\n",
      "CPU times: user 5min 52s, sys: 1min 19s, total: 7min 11s\n",
      "Wall time: 9min 21s\n"
     ]
    }
   ],
   "source": [
    "%%time\n",
    "tf.reset_default_graph()\n",
    "costs_adam = art.training(content='istanbul_rumeli', styles=['Nympheas'], \n",
    "                 style_weights=[1], output=\"istanbul_Nympheas\", alpha=5, beta=1000, optimizer='Lbfgsb', \n",
    "                 learning_rate=0.5, iterations=500, verbose=False)"
   ]
  },
  {
   "cell_type": "code",
   "execution_count": 4,
   "metadata": {},
   "outputs": [
    {
     "name": "stdout",
     "output_type": "stream",
     "text": [
      "INFO:tensorflow:Optimization terminated with:\n",
      "  Message: b'STOP: TOTAL NO. of ITERATIONS REACHED LIMIT'\n",
      "  Objective function value: 1581058.125000\n",
      "  Number of iterations: 500\n",
      "  Number of functions evaluations: 529\n",
      "\n",
      "\n",
      "Training ends. Output image istanbul_Sunrise.jpg and Model my_artist_1545007374 have already been saved.\n",
      "CPU times: user 5min 57s, sys: 1min 18s, total: 7min 16s\n",
      "Wall time: 16min 58s\n"
     ]
    }
   ],
   "source": [
    "%%time\n",
    "tf.reset_default_graph()\n",
    "costs_adam = art.training(content='istanbul_bosphorus', styles=['Sunrise'], \n",
    "                 style_weights=[1], output=\"istanbul_Sunrise\", alpha=5, beta=1000, optimizer='Lbfgsb', \n",
    "                 learning_rate=0.5, iterations=500, verbose=False)"
   ]
  },
  {
   "cell_type": "code",
   "execution_count": 5,
   "metadata": {},
   "outputs": [
    {
     "name": "stdout",
     "output_type": "stream",
     "text": [
      "INFO:tensorflow:Optimization terminated with:\n",
      "  Message: b'STOP: TOTAL NO. of ITERATIONS REACHED LIMIT'\n",
      "  Objective function value: 15714568.000000\n",
      "  Number of iterations: 500\n",
      "  Number of functions evaluations: 522\n",
      "\n",
      "\n",
      "Training ends. Output image istanbul_Starry_night.jpg and Model my_artist_1545008392 have already been saved.\n",
      "CPU times: user 5min 52s, sys: 1min 18s, total: 7min 11s\n",
      "Wall time: 18min 22s\n"
     ]
    }
   ],
   "source": [
    "%%time\n",
    "tf.reset_default_graph()\n",
    "costs_adam = art.training(content='istanbul_İstiklal', styles=['Starry_night'], \n",
    "                 style_weights=[1], output=\"istanbul_Starry_night\", alpha=5, beta=1000, optimizer='Lbfgsb', \n",
    "                 learning_rate=0.5, iterations=500, verbose=False)"
   ]
  }
 ],
 "metadata": {
  "kernelspec": {
   "display_name": "Python 3",
   "language": "python",
   "name": "python3"
  },
  "language_info": {
   "codemirror_mode": {
    "name": "ipython",
    "version": 3
   },
   "file_extension": ".py",
   "mimetype": "text/x-python",
   "name": "python",
   "nbconvert_exporter": "python",
   "pygments_lexer": "ipython3",
   "version": "3.6.3"
  }
 },
 "nbformat": 4,
 "nbformat_minor": 2
}
